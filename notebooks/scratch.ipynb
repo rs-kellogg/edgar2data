{
 "cells": [
  {
   "cell_type": "code",
   "execution_count": 2,
   "id": "8052b7ed-09e0-44b4-9d8c-eaa5ca893aa1",
   "metadata": {},
   "outputs": [],
   "source": [
    "import re\n",
    "import lxml.etree as ET\n",
    "from pathlib import Path\n",
    "from typing import List, Dict\n",
    "from pathlib import Path"
   ]
  },
  {
   "cell_type": "code",
   "execution_count": 5,
   "id": "95ab0f49-7925-42c3-b7bc-436228e4a50c",
   "metadata": {},
   "outputs": [
    {
     "data": {
      "text/plain": [
       "True"
      ]
     },
     "execution_count": 5,
     "metadata": {},
     "output_type": "execute_result"
    }
   ],
   "source": [
    "file = Path(\"../tests/data/form-13/1661140_4_0001661140-18-000007.txt\")\n",
    "file.exists()"
   ]
  },
  {
   "cell_type": "code",
   "execution_count": 6,
   "id": "720e6714-1a23-4fab-8555-3171fa7f9fae",
   "metadata": {},
   "outputs": [],
   "source": [
    "xml_pat = re.compile(r\"<XML>(.+?)</XML>\", flags=re.DOTALL)\n",
    "doc_text = file.read_text()\n",
    "match = xml_pat.findall(doc_text)\n",
    "assert match is not None and len(match) == 2\n",
    "# edgar_submisstion_text = match[0].strip().replace(\"xmlns:ns1\", \"xmlns:com\").replace(\"ns1:\", \"com:\")\n",
    "edgar_submisstion_text = match[0].strip()\n",
    "info_table_text = match[1].strip()"
   ]
  },
  {
   "cell_type": "code",
   "execution_count": 7,
   "id": "714aadf4-4687-4771-9b67-3b4e11d11ce8",
   "metadata": {},
   "outputs": [
    {
     "data": {
      "text/plain": [
       "{'xsd': 'http://www.w3.org/2001/XMLSchema',\n",
       " 'xsi': 'http://www.w3.org/2001/XMLSchema-instance',\n",
       " None: 'http://www.sec.gov/edgar/document/thirteenf/informationtable'}"
      ]
     },
     "execution_count": 7,
     "metadata": {},
     "output_type": "execute_result"
    }
   ],
   "source": [
    "xml_edgar_submission = ET.fromstring(edgar_submisstion_text.encode('utf-8'))\n",
    "xml_info_tables = ET.fromstring(match[1].strip().encode('utf-8'))\n",
    "xml_info_tables.nsmap"
   ]
  },
  {
   "cell_type": "code",
   "execution_count": 8,
   "id": "a507bd56-4908-421a-9620-de52c77e86ae",
   "metadata": {},
   "outputs": [
    {
     "data": {
      "text/plain": [
       "104"
      ]
     },
     "execution_count": 8,
     "metadata": {},
     "output_type": "execute_result"
    }
   ],
   "source": [
    "info_tables = xml_info_tables.findall(\"infoTable\", xml_info_tables.nsmap)\n",
    "len(info_tables)"
   ]
  },
  {
   "cell_type": "code",
   "execution_count": 14,
   "id": "ba770d03-4de1-414c-b8ee-001f6d91fe59",
   "metadata": {},
   "outputs": [
    {
     "data": {
      "text/plain": [
       "<Element {http://www.sec.gov/edgar/common}zipCode at 0x7f96a6beb280>"
      ]
     },
     "execution_count": 14,
     "metadata": {},
     "output_type": "execute_result"
    }
   ],
   "source": [
    "namespaces = xml_edgar_submission.nsmap\n",
    "if \"com\" not in namespaces:\n",
    "    if \"ns1\" in namespaces:\n",
    "        namespaces[\"com\"] = namespaces[\"ns1\"]\n",
    "    if \"n1\" in namespaces:\n",
    "        namespaces[\"com\"] = namespaces[\"n1\"]\n",
    "\n",
    "xml_edgar_submission.find(\n",
    "    \"formData/coverPage/filingManager/address/com:zipCode\",\n",
    "    namespaces\n",
    ")"
   ]
  },
  {
   "cell_type": "code",
   "execution_count": null,
   "id": "9cd7c33f-8bc7-4668-9f74-b7e5e8050d72",
   "metadata": {},
   "outputs": [],
   "source": []
  },
  {
   "cell_type": "code",
   "execution_count": null,
   "id": "e7aca1d5-5f9c-4389-b946-80fafc7dc5dc",
   "metadata": {},
   "outputs": [],
   "source": []
  }
 ],
 "metadata": {
  "kernelspec": {
   "display_name": "Python 3 (ipykernel)",
   "language": "python",
   "name": "python3"
  },
  "language_info": {
   "codemirror_mode": {
    "name": "ipython",
    "version": 3
   },
   "file_extension": ".py",
   "mimetype": "text/x-python",
   "name": "python",
   "nbconvert_exporter": "python",
   "pygments_lexer": "ipython3",
   "version": "3.9.0"
  }
 },
 "nbformat": 4,
 "nbformat_minor": 5
}
