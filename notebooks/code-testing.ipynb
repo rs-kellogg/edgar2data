{
 "cells": [
  {
   "cell_type": "markdown",
   "metadata": {
    "slideshow": {
     "slide_type": "slide"
    }
   },
   "source": [
    "# <span style=\"color:purple\">Testing Code</span>\n",
    "\n",
    "\n",
    "## August, 2021"
   ]
  },
  {
   "cell_type": "markdown",
   "metadata": {
    "slideshow": {
     "slide_type": "slide"
    }
   },
   "source": [
    "## <span style=\"color:purple\">Testing</span>\n",
    "\n",
    "<br>\n",
    "<br>\n",
    "\n",
    "<center><img src=\"../figures/good_code.png\" width=\"70%\" style='border:5px solid #000000'/></center>\n",
    "<center> https://www.xkcd.com </center>"
   ]
  },
  {
   "cell_type": "markdown",
   "metadata": {
    "slideshow": {
     "slide_type": "slide"
    }
   },
   "source": [
    "## <span style=\"color:purple\">What can go wrong with your code? </span>\n",
    "<br>"
   ]
  },
  {
   "cell_type": "markdown",
   "metadata": {
    "slideshow": {
     "slide_type": "fragment"
    }
   },
   "source": [
    "* Bugs (code crashes, brittle to unexpected inputs)"
   ]
  },
  {
   "cell_type": "markdown",
   "metadata": {
    "slideshow": {
     "slide_type": "fragment"
    }
   },
   "source": [
    "* Code \"works\", but gives incorrect results"
   ]
  },
  {
   "cell_type": "markdown",
   "metadata": {
    "slideshow": {
     "slide_type": "fragment"
    }
   },
   "source": [
    "* Cannot reliably and automatically generate the same results each time"
   ]
  },
  {
   "cell_type": "markdown",
   "metadata": {
    "slideshow": {
     "slide_type": "fragment"
    }
   },
   "source": [
    "* External resources, like code dependencies and data change outside your control"
   ]
  },
  {
   "cell_type": "markdown",
   "metadata": {
    "slideshow": {
     "slide_type": "fragment"
    }
   },
   "source": [
    "* Code is slow and/or uses a lot of memory"
   ]
  },
  {
   "cell_type": "markdown",
   "metadata": {
    "slideshow": {
     "slide_type": "fragment"
    }
   },
   "source": [
    "* Code is hard to understand"
   ]
  },
  {
   "cell_type": "markdown",
   "metadata": {
    "slideshow": {
     "slide_type": "fragment"
    }
   },
   "source": [
    "* Code is hard to change"
   ]
  },
  {
   "cell_type": "markdown",
   "metadata": {
    "slideshow": {
     "slide_type": "slide"
    }
   },
   "source": [
    "## <span style=\"color:purple\">Unit Testing</span>\n",
    "<br>\n",
    "<br>\n",
    "Testing code (separate from application code) that invokes the code it tests to determine if there are any errors.  \n",
    "<br>\n",
    "<br>\n",
    "It does not prove code is correct, but rather reports if the conditions provided in the tester are handled correctly\n",
    "<br>\n",
    "<br>\n",
    "Unit tests specifically test a single “unit” of the code in isolation.  For instance, testing a single class, function, module etc. \n",
    "\n"
   ]
  },
  {
   "cell_type": "markdown",
   "metadata": {
    "slideshow": {
     "slide_type": "slide"
    }
   },
   "source": [
    "## <span style=\"color:purple\">Example: Unit Tests in Python</span>"
   ]
  },
  {
   "cell_type": "markdown",
   "metadata": {
    "slideshow": {
     "slide_type": "fragment"
    }
   },
   "source": [
    "* For R unit testing, use the [```testthat``` package](https://testthat.r-lib.org)"
   ]
  },
  {
   "cell_type": "markdown",
   "metadata": {
    "slideshow": {
     "slide_type": "fragment"
    }
   },
   "source": [
    "* For Java unit testing, use the  [```junit``` package](https://junit.org/junit5/)"
   ]
  },
  {
   "cell_type": "markdown",
   "metadata": {
    "slideshow": {
     "slide_type": "fragment"
    }
   },
   "source": [
    "* For unit testing in Stata, SAS, and Matlab, consider switching to a modern programming language 😀"
   ]
  },
  {
   "cell_type": "code",
   "execution_count": 3,
   "metadata": {
    "slideshow": {
     "slide_type": "fragment"
    }
   },
   "outputs": [],
   "source": [
    "def test_extract_doclevel_form3_collection(test_form3_collection):\n",
    "    \"\"\"\n",
    "    Validate Form3 extraction code against a random sample of documents\n",
    "    :param test_form3_collection:\n",
    "    :return:\n",
    "    \"\"\"\n",
    "    for file in test_form3_collection.glob(\"*.txt\"):\n",
    "        doc = (file)\n",
    "        assert doc.filename == file.name\n",
    "        fields = doc.doc_info \n",
    "        assert len(fields) == 19\n",
    "        assert fields[\"filename\"] == file.name\n",
    "        assert fields[\"schema_version\"] == \"X0206\"\n",
    "        assert fields[\"document_type\"] == \"3\"\n"
   ]
  }
 ],
 "metadata": {
  "celltoolbar": "Slideshow",
  "kernelspec": {
   "display_name": "Python 3 (ipykernel)",
   "language": "python",
   "name": "python3"
  },
  "language_info": {
   "codemirror_mode": {
    "name": "ipython",
    "version": 3
   },
   "file_extension": ".py",
   "mimetype": "text/x-python",
   "name": "python",
   "nbconvert_exporter": "python",
   "pygments_lexer": "ipython3",
   "version": "3.10.4"
  },
  "nteract": {
   "version": "0.28.0"
  }
 },
 "nbformat": 4,
 "nbformat_minor": 4
}
