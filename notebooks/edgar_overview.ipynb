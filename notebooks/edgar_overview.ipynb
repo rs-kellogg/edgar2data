{
 "cells": [
  {
   "cell_type": "code",
   "execution_count": null,
   "metadata": {
    "pycharm": {
     "name": "#%%\n"
    },
    "slideshow": {
     "slide_type": "skip"
    }
   },
   "outputs": [],
   "source": [
    "import re\n",
    "import typer\n",
    "import pandas as pd\n",
    "from typing import Dict\n",
    "from pathlib import Path\n",
    "from rich import print\n",
    "import edgar"
   ]
  },
  {
   "cell_type": "markdown",
   "metadata": {
    "pycharm": {
     "name": "#%% md\n"
    },
    "slideshow": {
     "slide_type": "slide"
    }
   },
   "source": [
    "# ```edgar2data```: Extracting Information from EDGAR Documents\n",
    "\n",
    "<br>\n",
    "\n",
    "<center><img src=\"figures/library.png\" width=\"30%\" style='border:5px solid #000000'/></center>\n"
   ]
  },
  {
   "cell_type": "markdown",
   "metadata": {
    "pycharm": {
     "name": "#%% md\n"
    },
    "slideshow": {
     "slide_type": "slide"
    }
   },
   "source": [
    "# Example: Insider Trading Data: SEC Forms 3, 4, and 5\n",
    "\n",
    "Forms 3, 4, and 5 filings are reports submitted to the SEC by investors who may buy or sell shares in companies where they are deemed insiders. The SEC defines an insider as any officer, director or more than 10% shareholder of a publicly traded company.\n",
    "\n",
    "* https://www.sec.gov/files/forms-3-4-5.pdf\n",
    "* https://www.sec.gov/Archives/edgar/data/1326190/000101297517000759/xslF345X03/edgar.xml\n",
    "* https://whalewisdomalpha.com/form-4-insider-trading-analysis/\n",
    "* https://www.sec.gov/Archives/edgar/data/1318605/000149473018000006/xslF345X03/edgardoc.xml\n",
    "\n",
    "These filings are publicly available through the [SEC EDGAR website](https://www.sec.gov/edgar/search/)\n",
    "\n",
    "For example, here is a [Form 4](https://www.sec.gov/Archives/edgar/data/1326190/000101297517000759/)"
   ]
  },
  {
   "cell_type": "markdown",
   "metadata": {
    "pycharm": {
     "name": "#%% md\n"
    },
    "slideshow": {
     "slide_type": "slide"
    }
   },
   "source": [
    "# ```edgar2data``` uses XML parsing, RegEx, (and in future NLP) to extract information\n",
    "\n",
    "<br>\n",
    "<br>\n",
    "<br>\n",
    "\n",
    "<center><img src=\"figures/unstrctured-data-types.png\" width=\"80%\" style='border:5px solid #000000'/></center>"
   ]
  },
  {
   "cell_type": "markdown",
   "metadata": {
    "pycharm": {
     "name": "#%% md\n"
    },
    "slideshow": {
     "slide_type": "slide"
    }
   },
   "source": [
    "# <span style=\"color:purple\">Working with XML</span>\n",
    "\n",
    "https://www.xmlviewer.org/"
   ]
  },
  {
   "cell_type": "code",
   "execution_count": null,
   "metadata": {},
   "outputs": [],
   "source": [
    "from edgar.forms.secdoc import Document\n",
    "\n",
    "??Document"
   ]
  },
  {
   "cell_type": "code",
   "execution_count": null,
   "metadata": {},
   "outputs": [],
   "source": [
    "from pathlib import Path\n",
    "from edgar.utils import create_doc\n",
    "\n",
    "doc = create_doc(Path(\"../tests/data/form-3/37996_4_0001209191-20-054135.txt\"))\n",
    "print(doc)\n",
    "# print(doc.doc_info)\n",
    "# print(doc.report_owners)\n",
    "# print(doc.nonderivatives)\n",
    "# print(doc.derivatives)\n",
    "# print(doc.signatures)\n",
    "# print(doc.footnotes)"
   ]
  },
  {
   "cell_type": "code",
   "execution_count": null,
   "metadata": {
    "pycharm": {
     "name": "#%%\n"
    }
   },
   "outputs": [],
   "source": [
    "from edgar.cli import process\n",
    "\n",
    "??process"
   ]
  },
  {
   "cell_type": "code",
   "execution_count": null,
   "metadata": {},
   "outputs": [],
   "source": [
    "from pathlib import Path\n",
    "from edgar.cli import process\n",
    "\n",
    "in_dir = Path(\"../tests/data/form-3/sample/2020\")\n",
    "out_dir = Path(\"./temp\")\n",
    "\n",
    "process(in_dir, out_dir)"
   ]
  },
  {
   "cell_type": "markdown",
   "metadata": {
    "pycharm": {
     "name": "#%% md\n"
    },
    "slideshow": {
     "slide_type": "slide"
    }
   },
   "source": [
    "# <span style=\"color:purple\">Scaling up to Multiple Documents</span>\n",
    "\n",
    "<br>\n",
    "<br>\n",
    "<br>\n",
    "\n",
    "<center><img src=\"figures/information_extraction.png\" width=\"100%\" style='border:5px solid #000000'/></center>"
   ]
  },
  {
   "cell_type": "code",
   "execution_count": null,
   "metadata": {},
   "outputs": [],
   "source": [
    "!edgar2data --help"
   ]
  },
  {
   "cell_type": "code",
   "execution_count": null,
   "metadata": {},
   "outputs": [],
   "source": [
    "!edgar2data process --help"
   ]
  },
  {
   "cell_type": "code",
   "execution_count": null,
   "metadata": {},
   "outputs": [],
   "source": [
    "!edgar2data process ../tests/data/form-3/sample/2020 --out_dir ./temp"
   ]
  },
  {
   "cell_type": "code",
   "execution_count": null,
   "metadata": {
    "pycharm": {
     "name": "#%%\n"
    },
    "slideshow": {
     "slide_type": "subslide"
    }
   },
   "outputs": [],
   "source": [
    "import pandas as pd\n",
    "\n",
    "doc_info = pd.read_csv(\"./temp/document_info.csv\")\n",
    "footnotes = pd.read_csv(\"./temp/footnotes.csv\")\n",
    "derivatives = pd.read_csv(\"./temp/derivatives.csv\")\n",
    "nonderivatives = pd.read_csv(\"./temp/nonderivatives.csv\")\n",
    "report_owners = pd.read_csv(\"./temp/report_owners.csv\")\n",
    "signatures = pd.read_csv(\"./temp/signatures.csv\")\n",
    "\n",
    "doc_info.head(20)"
   ]
  },
  {
   "cell_type": "code",
   "execution_count": null,
   "metadata": {},
   "outputs": [],
   "source": [
    "!uvicorn edgar.api:app "
   ]
  }
 ],
 "metadata": {
  "celltoolbar": "Slideshow",
  "kernelspec": {
   "display_name": "Python 3 (ipykernel)",
   "language": "python",
   "name": "python3"
  },
  "language_info": {
   "codemirror_mode": {
    "name": "ipython",
    "version": 3
   },
   "file_extension": ".py",
   "mimetype": "text/x-python",
   "name": "python",
   "nbconvert_exporter": "python",
   "pygments_lexer": "ipython3",
   "version": "3.10.5"
  },
  "toc-autonumbering": true,
  "toc-showcode": true,
  "toc-showtags": true,
  "varInspector": {
   "cols": {
    "lenName": 16,
    "lenType": 16,
    "lenVar": 40
   },
   "kernels_config": {
    "python": {
     "delete_cmd_postfix": "",
     "delete_cmd_prefix": "del ",
     "library": "var_list.py",
     "varRefreshCmd": "print(var_dic_list())"
    },
    "r": {
     "delete_cmd_postfix": ") ",
     "delete_cmd_prefix": "rm(",
     "library": "var_list.r",
     "varRefreshCmd": "cat(var_dic_list()) "
    }
   },
   "types_to_exclude": [
    "module",
    "function",
    "builtin_function_or_method",
    "instance",
    "_Feature"
   ],
   "window_display": false
  }
 },
 "nbformat": 4,
 "nbformat_minor": 4
}
