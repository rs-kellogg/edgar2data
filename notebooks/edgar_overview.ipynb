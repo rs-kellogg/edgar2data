{
 "cells": [
  {
   "cell_type": "code",
   "execution_count": 1,
   "metadata": {
    "pycharm": {
     "name": "#%%\n"
    },
    "slideshow": {
     "slide_type": "skip"
    }
   },
   "outputs": [],
   "source": [
    "import re\n",
    "import typer\n",
    "import pandas as pd\n",
    "from typing import Dict\n",
    "from pathlib import Path\n",
    "import edgar"
   ]
  },
  {
   "cell_type": "markdown",
   "metadata": {
    "pycharm": {
     "name": "#%% md\n"
    },
    "slideshow": {
     "slide_type": "skip"
    }
   },
   "source": [
    "# Overview\n",
    "\n",
    "* Explain EDGAR data, background on why it's useful for Kellogg\n",
    "* CLI example (screenshot, open terminal and run against sample)\n",
    "* API example (start up server, go to FastApi doc page, provide example file)\n",
    "* Code documentation (UML diagram, SQL tables for output)\n",
    "* Internal code examples can pull directly from actual source\n",
    "* Show grep on KLC"
   ]
  },
  {
   "cell_type": "markdown",
   "metadata": {
    "pycharm": {
     "name": "#%% md\n"
    },
    "slideshow": {
     "slide_type": "slide"
    }
   },
   "source": [
    "# ```edgar2data```: Extracting Information from EDGAR Documents\n",
    "\n",
    "<br>\n",
    "<br>\n",
    "<br>\n",
    "\n",
    "<center><img src=\"figures/library.png\" width=\"33%\" style='border:5px solid #000000'/></center>\n"
   ]
  },
  {
   "cell_type": "markdown",
   "metadata": {
    "pycharm": {
     "name": "#%% md\n"
    },
    "slideshow": {
     "slide_type": "slide"
    }
   },
   "source": [
    "# Example: Insider Trading Data: SEC Forms 3, 4, and 5\n",
    "\n",
    "Forms 3, 4, and 5 filings are reports submitted to the SEC by investors who may buy or sell shares in companies where they are deemed insiders. The SEC defines an insider as any officer, director or more than 10% shareholder of a publicly traded company.\n",
    "\n",
    "* https://www.sec.gov/files/forms-3-4-5.pdf\n",
    "* https://www.sec.gov/Archives/edgar/data/1326190/000101297517000759/xslF345X03/edgar.xml\n",
    "* https://whalewisdomalpha.com/form-4-insider-trading-analysis/\n",
    "* https://www.sec.gov/Archives/edgar/data/1318605/000149473018000006/xslF345X03/edgardoc.xml\n",
    "\n",
    "These filings are publicly available through the [SEC EDGAR website](https://www.sec.gov/edgar/search/)\n",
    "\n",
    "For example, here is a [Form 4](https://www.sec.gov/Archives/edgar/data/1326190/000101297517000759/)"
   ]
  },
  {
   "cell_type": "markdown",
   "metadata": {
    "pycharm": {
     "name": "#%% md\n"
    },
    "slideshow": {
     "slide_type": "slide"
    }
   },
   "source": [
    "# ```edgar2data``` uses XML parsing, RegEx, (and in future NLP) to extract information\n",
    "\n",
    "<br>\n",
    "<br>\n",
    "<br>\n",
    "\n",
    "<center><img src=\"figures/unstrctured-data-types.png\" width=\"80%\" style='border:5px solid #000000'/></center>"
   ]
  },
  {
   "cell_type": "markdown",
   "metadata": {
    "pycharm": {
     "name": "#%% md\n"
    },
    "slideshow": {
     "slide_type": "slide"
    }
   },
   "source": [
    "# <span style=\"color:purple\">Scaling up to Multiple Documents</span>\n",
    "\n",
    "<br>\n",
    "<br>\n",
    "<br>\n",
    "\n",
    "<center><img src=\"figures/information_extraction.png\" width=\"100%\" style='border:5px solid #000000'/></center>"
   ]
  },
  {
   "cell_type": "code",
   "execution_count": null,
   "metadata": {
    "pycharm": {
     "name": "#%%\n"
    }
   },
   "outputs": [],
   "source": [
    "from edgar.cli import process\n",
    "help(process)"
   ]
  },
  {
   "cell_type": "code",
   "execution_count": null,
   "metadata": {
    "pycharm": {
     "name": "#%%\n"
    },
    "slideshow": {
     "slide_type": "subslide"
    }
   },
   "outputs": [],
   "source": [
    "import re\n",
    "from typing import Dict\n",
    "\n",
    "document_fields_header: Dict[str, re.Pattern] = {\n",
    "    \"accession\": re.compile(r\"^\\s*ACCESSION NUMBER:(.+?)$\", flags=re.DOTALL | re.MULTILINE),\n",
    "    \"sec_document\": re.compile(r\"<SEC-DOCUMENT>(.+?):\", flags=re.DOTALL | re.MULTILINE),\n",
    "    \"sec_header\": re.compile(r\"<SEC-DOCUMENT>(.+?):\", flags=re.DOTALL | re.MULTILINE),\n",
    "    \"acceptance_datetime\": re.compile(r\"<ACCEPTANCE-DATETIME>(.+?)$\", flags=re.DOTALL | re.MULTILINE)\n",
    "}\n",
    "    \n",
    "for key, val in document_fields_header.items():\n",
    "    typer.secho(f\"key: {key}\", fg=typer.colors.WHITE, bg=typer.colors.RED)\n",
    "    typer.secho(f\"val: {val}\", fg=typer.colors.WHITE, bg=typer.colors.BLACK)"
   ]
  },
  {
   "cell_type": "code",
   "execution_count": 4,
   "metadata": {
    "pycharm": {
     "name": "#%%\n"
    },
    "slideshow": {
     "slide_type": "subslide"
    }
   },
   "outputs": [
    {
     "name": "stdout",
     "output_type": "stream",
     "text": [
      "\u001B[37m\u001B[40m<function extract_doc_header_info at 0x7fcf252de3b0>\u001B[0m\n"
     ]
    }
   ],
   "source": [
    "def extract_doc_header_info(f: Path) -> Dict[str, str]:\n",
    "    text = f.read_text()\n",
    "    row_dict = {\"filename\": f.name}\n",
    "    for field, pat in document_fields_header.items():\n",
    "        row_dict[field] = None\n",
    "        match = pat.findall(text)\n",
    "        if match:\n",
    "            row_dict[field] = match[0].strip()\n",
    "        else:\n",
    "            typer.secho(f\"WARNING: {f} does not contain {field}\", fg=typer.colors.RED)\n",
    "    return row_dict\n",
    "\n",
    "typer.secho(f\"{extract_doc_header_info}\", fg=typer.colors.WHITE, bg=typer.colors.BLACK)"
   ]
  },
  {
   "cell_type": "code",
   "execution_count": null,
   "metadata": {
    "pycharm": {
     "name": "#%%\n"
    },
    "slideshow": {
     "slide_type": "subslide"
    }
   },
   "outputs": [],
   "source": [
    "from pathlib import Path\n",
    "import pandas as pd\n",
    "\n",
    "row_dicts = []\n",
    "in_dir = Path(\"../tests/data/form-4/sample/2020\")\n",
    "for f in in_dir.glob(\"*.txt\"):\n",
    "    typer.secho(f\"processing file: {f.name}\", fg=typer.colors.WHITE, bg=typer.colors.BLACK)\n",
    "    row_dicts.append(extract_doc_header_info(f))\n",
    "\n",
    "header_df = pd.DataFrame(row_dicts)\n",
    "header_df = header_df.set_index(\"filename\")"
   ]
  },
  {
   "cell_type": "code",
   "execution_count": null,
   "metadata": {
    "pycharm": {
     "name": "#%%\n"
    },
    "slideshow": {
     "slide_type": "subslide"
    }
   },
   "outputs": [],
   "source": [
    "header_df.head(20)"
   ]
  },
  {
   "cell_type": "markdown",
   "metadata": {
    "pycharm": {
     "name": "#%% md\n"
    },
    "slideshow": {
     "slide_type": "slide"
    }
   },
   "source": [
    "# <span style=\"color:purple\">Working with XML</span>\n",
    "\n",
    "https://www.xmlviewer.org/"
   ]
  },
  {
   "cell_type": "code",
   "execution_count": null,
   "metadata": {
    "pycharm": {
     "name": "#%%\n"
    },
    "slideshow": {
     "slide_type": "subslide"
    }
   },
   "outputs": [],
   "source": [
    "from typing import Dict\n",
    "\n",
    "document_fields: Dict[str, str] = {\n",
    "    \"schemaVersion\": \"schemaVersion\",\n",
    "    \"documentType\": \"documentType\",\n",
    "    \"periodOfReport\": \"periodOfReport\",\n",
    "    \"notSubjectToSection16\": \"notSubjectToSection16\",\n",
    "    \"issuerCik\": \"issuer/issuerCik\",\n",
    "    \"issuerName\": \"issuer/issuerName\",\n",
    "    \"issuerTradingSymbol\": \"issuer/issuerTradingSymbol\"\n",
    "}\n",
    "    \n",
    "for key, val in document_fields.items():\n",
    "    typer.secho(f\"key: {key}\", fg=typer.colors.WHITE, bg=typer.colors.RED)\n",
    "    typer.secho(f\"val: {val}\", fg=typer.colors.WHITE, bg=typer.colors.BLACK)"
   ]
  },
  {
   "cell_type": "code",
   "execution_count": 12,
   "metadata": {
    "pycharm": {
     "name": "#%%\n"
    },
    "slideshow": {
     "slide_type": "subslide"
    }
   },
   "outputs": [],
   "source": [
    "from typing import Dict\n",
    "import xml.etree.ElementTree as ET\n",
    "import re\n",
    "\n",
    "def extract_doc_xml_info(f: Path) -> Dict[str, str]:\n",
    "    text = f.read_text()\n",
    "    row_dict = {\"filename\": f.name}\n",
    "    \n",
    "    # extract the XML portion of the document using a regex\n",
    "    xml_pat = re.compile(r\"<XML>(.+)</XML>\", flags=re.DOTALL)\n",
    "    match = xml_pat.findall(f.read_text())\n",
    "    xml_text = match[0].strip()   \n",
    "    root = ET.fromstring(xml_text)\n",
    "\n",
    "    # iterate through fields and match on path \n",
    "    for field, pat in document_fields.items():\n",
    "        row_dict[field] = None\n",
    "        match = root.find(pat)\n",
    "        if match is not None:\n",
    "            row_dict[field] = match.text.strip()\n",
    "        else:\n",
    "            typer.secho(f\"WARNING: {f.name} does not contain {field}\", bg=typer.colors.BLACK, fg=typer.colors.WHITE)\n",
    "    \n",
    "    return row_dict"
   ]
  },
  {
   "cell_type": "code",
   "execution_count": null,
   "metadata": {
    "pycharm": {
     "name": "#%%\n"
    },
    "scrolled": true,
    "slideshow": {
     "slide_type": "subslide"
    }
   },
   "outputs": [],
   "source": [
    "import typer\n",
    "import pandas as pd\n",
    "from pathlib import Path\n",
    "\n",
    "row_dicts = []\n",
    "in_dir = Path(\"../tests/data/form-4/sample/2020\")\n",
    "for f in in_dir.glob(\"*.txt\"):\n",
    "    row_dicts.append(extract_doc_xml_info(f))\n",
    "\n",
    "xml_df = pd.DataFrame(row_dicts)\n",
    "xml_df = xml_df.set_index(\"filename\")"
   ]
  },
  {
   "cell_type": "code",
   "execution_count": null,
   "metadata": {
    "pycharm": {
     "name": "#%%\n"
    },
    "slideshow": {
     "slide_type": "subslide"
    }
   },
   "outputs": [],
   "source": [
    "xml_df.head(20)"
   ]
  },
  {
   "cell_type": "code",
   "execution_count": null,
   "metadata": {
    "pycharm": {
     "name": "#%%\n"
    },
    "slideshow": {
     "slide_type": "subslide"
    }
   },
   "outputs": [],
   "source": [
    "# join the results together\n",
    "df = header_df.join(xml_df)\n",
    "df.head(10)"
   ]
  }
 ],
 "metadata": {
  "celltoolbar": "Slideshow",
  "kernelspec": {
   "display_name": "Python 3 (ipykernel)",
   "language": "python",
   "name": "python3"
  },
  "language_info": {
   "codemirror_mode": {
    "name": "ipython",
    "version": 3
   },
   "file_extension": ".py",
   "mimetype": "text/x-python",
   "name": "python",
   "nbconvert_exporter": "python",
   "pygments_lexer": "ipython3",
   "version": "3.7.12"
  },
  "toc-autonumbering": true,
  "toc-showcode": true,
  "toc-showtags": true,
  "varInspector": {
   "cols": {
    "lenName": 16,
    "lenType": 16,
    "lenVar": 40
   },
   "kernels_config": {
    "python": {
     "delete_cmd_postfix": "",
     "delete_cmd_prefix": "del ",
     "library": "var_list.py",
     "varRefreshCmd": "print(var_dic_list())"
    },
    "r": {
     "delete_cmd_postfix": ") ",
     "delete_cmd_prefix": "rm(",
     "library": "var_list.r",
     "varRefreshCmd": "cat(var_dic_list()) "
    }
   },
   "types_to_exclude": [
    "module",
    "function",
    "builtin_function_or_method",
    "instance",
    "_Feature"
   ],
   "window_display": false
  }
 },
 "nbformat": 4,
 "nbformat_minor": 4
}